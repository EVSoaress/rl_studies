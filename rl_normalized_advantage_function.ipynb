{
  "nbformat": 4,
  "nbformat_minor": 0,
  "metadata": {
    "colab": {
      "provenance": [],
      "authorship_tag": "ABX9TyO+pa0L/mZ69oHd5DdpHRLB",
      "include_colab_link": true
    },
    "kernelspec": {
      "name": "python3",
      "display_name": "Python 3"
    },
    "language_info": {
      "name": "python"
    }
  },
  "cells": [
    {
      "cell_type": "markdown",
      "metadata": {
        "id": "view-in-github",
        "colab_type": "text"
      },
      "source": [
        "<a href=\"https://colab.research.google.com/github/EVSoaress/rl_studies/blob/main/rl_normalized_advantage_function.ipynb\" target=\"_parent\"><img src=\"https://colab.research.google.com/assets/colab-badge.svg\" alt=\"Open In Colab\"/></a>"
      ]
    },
    {
      "cell_type": "markdown",
      "metadata": {
        "id": "KCZmQKLpBtFQ"
      },
      "source": [
        "## DQN for continuous action spaces: Normalized Advantage Function (NAF)"
      ]
    },
    {
      "cell_type": "code",
      "execution_count": null,
      "metadata": {
        "id": "ohgRzyBxe_rE"
      },
      "outputs": [],
      "source": [
        "!apt-get install -y xvfb\n",
        "\n",
        "!pip install \\\n",
        "    gym==0.22 \\\n",
        "    gym[box2d] \\\n",
        "    pytorch-lightning==1.6.0 \\\n",
        "    pyvirtualdisplay"
      ]
    },
    {
      "cell_type": "code",
      "source": [
        "from pyvirtualdisplay import Display\n",
        "Display(visible=False, size=(1400, 900)).start()"
      ],
      "metadata": {
        "id": "nhZPT6v8fHYi"
      },
      "execution_count": null,
      "outputs": []
    },
    {
      "cell_type": "code",
      "execution_count": null,
      "metadata": {
        "id": "cP5t6U7-nYoc",
        "colab": {
          "base_uri": "https://localhost:8080/"
        },
        "outputId": "b91bc0e7-8f18-4152-9e56-1ae2729de36d"
      },
      "outputs": [
        {
          "output_type": "stream",
          "name": "stderr",
          "text": [
            "\n"
          ]
        }
      ],
      "source": [
        "import copy\n",
        "import gym\n",
        "import torch\n",
        "\n",
        "import numpy as np\n",
        "import torch.nn.functional as F\n",
        "\n",
        "from collections import deque, namedtuple\n",
        "from IPython.display import HTML\n",
        "from base64 import b64encode\n",
        "\n",
        "from torch import nn\n",
        "from torch.utils.data import DataLoader\n",
        "from torch.utils.data.dataset import IterableDataset\n",
        "from torch.optim import AdamW\n",
        "\n",
        "from pytorch_lightning import LightningModule, Trainer\n",
        "\n",
        "from gym.wrappers import RecordVideo, RecordEpisodeStatistics, TimeLimit\n",
        "\n",
        "\n",
        "device = 'cuda:0' if torch.cuda.is_available() else 'cpu'\n",
        "num_gpus = torch.cuda.device_count()"
      ]
    },
    {
      "cell_type": "code",
      "execution_count": null,
      "metadata": {
        "id": "Z_IrPlU1wwPx"
      },
      "outputs": [],
      "source": [
        "def display_video(episode=0):\n",
        "  video_file = open(f'/content/videos/rl-video-episode-{episode}.mp4', \"r+b\").read()\n",
        "  video_url = f\"data:video/mp4;base64,{b64encode(video_file).decode()}\"\n",
        "  return HTML(f\"<video width=600 controls><source src='{video_url}'></video>\")"
      ]
    },
    {
      "cell_type": "markdown",
      "source": [
        "###Create the Deep Q-Network"
      ],
      "metadata": {
        "id": "BCP_-zTJouC1"
      }
    },
    {
      "cell_type": "code",
      "source": [
        "class NafDQN(nn.Module):\n",
        "\n",
        "  def __init__(self, hidden_size, obs_size, action_dims, max_action):\n",
        "    super().__init__()\n",
        "    self.action_dims = action_dims\n",
        "    self.max_action = torch.from_numpy(max_action).to(device)\n",
        "    self.net = nn.Sequential(\n",
        "        nn.Linear(obs_size, hidden_size),\n",
        "        nn.ReLU(),\n",
        "        nn.Linear(hidden_size, hidden_size),\n",
        "        nn.ReLU()\n",
        "    )\n",
        "    self.linear_mu = nn.Linear(hidden_size, action_dims)\n",
        "    self.linear_value = nn.Linear(hidden_size, 1)\n",
        "    self.linear_matrix = nn.Linear(hidden_size, \n",
        "                                   int(action_dims * (action_dims + 1) / 2))\n",
        "    \n",
        "    #Mu: compute action hightest Q-value\n",
        "    @torch.no_grad()\n",
        "    def mu(self, x):\n",
        "      x = self.net(x)\n",
        "      x = self.linear_mu\n",
        "      x = torch.tanh(x) * self.max_action\n",
        "      return x\n",
        "\n",
        "    #value: compute value state\n",
        "    @torch.no_grad()\n",
        "    def value(self, x):\n",
        "      x = self.net(x)\n",
        "      x = self.linear_value(x)\n",
        "      return x\n",
        "\n",
        "    #forward: Q-value\n",
        "    def forward(self, x, a):\n",
        "      x = self.net(x)\n",
        "      mu = torch.tanh(self.linear_mu(x) * )\n",
        "      value = self.linear_value(x)\n",
        "\n",
        "      #P[x]\n",
        "      matrix = torch.tanh(self.linear_matrix(x))\n",
        "\n",
        "      L = torch.zeros(x.shape[0], self.action_dims,  self.action_dims)\n",
        "      tril_indices = torch.tril_indices(row=self.action_dims, \n",
        "                                        col=self.actio_dims).to(device)\n",
        "      L[:, tril_indices[0], tril_indices[1]] = matrix\n",
        "      L.diagonal(dim1 = 1, dim2 = 2).exp_()\n",
        "      P = L * L.transpose(2,1)\n",
        "\n",
        "      u_mu = (a-mu).unsqueeze(dim=1)\n",
        "      u_mu_t = u_mu.transpose(1, 2)\n",
        "\n",
        "      adv = -1 / 2 * u_mu @ P @ u_mu_t\n",
        "      adv = adv.unsqueeze(dim=1)\n",
        "\n",
        "      return adv + value "
      ],
      "metadata": {
        "id": "Bqi90YEoox_O"
      },
      "execution_count": null,
      "outputs": []
    }
  ]
}